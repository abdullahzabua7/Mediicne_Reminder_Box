{
 "cells": [
  {
   "cell_type": "code",
   "execution_count": null,
   "metadata": {},
   "outputs": [],
   "source": [
    "import cred, json, time #import our cred file which has all the credentials, json and time.\n",
    "from datetime import datetime, timedelta  #import dateime and timedelta library for fetching the current time.\n",
    "from boltiot import Sms, Bolt #Fetch the data stored in Bolt Cloud and then based on their value send SMS.\n",
    "mybolt = Bolt(cred.API_KEY, cred.DEVICE_ID) #fetch the data that is APL key and Device ID from Bolt Cloud, we will create an object of the same.\n",
    "sms = Sms(cred.SSID, cred.AUTH_TOKEN, cred.TO_NUMBER, cred.FROM_NUMBER) #fetch the data from Twilio Dashboard, we will create an object of the same.\n",
    "button_state  = 0 #for switching the states; acknowlegment button of taking medicine\n",
    "\n",
    "def set_time(alarm_hr,alarm_min): \n",
    "        global button_state #Declaring button_state as Global Variable\n",
    "        door_response = mybolt.digitalRead('0') #Medical Box sensor fixed at pin0; Taking response from pin0 \n",
    "        door_data = json.loads(door_response)  #Coversion of any string in to json(object notation)\n",
    "        button_response = mybolt.digitalRead('1') #Button fixed at pin1; Taking response from pin1 \n",
    "        button_data = json.loads(button_response) #Coversion of any string in to json(object notation)\n",
    "        current_time =  datetime.now().hour*60 +datetime.now().minute  #Converting Current time in to Minutes\n",
    "        alarm_time=int(alarm_hr)*60 + int(alarm_min) #Converting alarm time in to minutes\n",
    "        try:\n",
    "            #Converting in to integer value.\n",
    "            door = int(door_data['value']) \n",
    "            button = int(button_data['value']) \n",
    "            if (button ==1 and door==0): #Checking if the buttton is press or not when the door is open.\n",
    "                button_state=1 \n",
    "            if current_time == alarm_time:\n",
    "                mybolt.digitalWrite('2','HIGH' )\n",
    "                mybolt.digitalWrite('3','HIGH' )\n",
    "                time.sleep(60)\n",
    "                mybolt.digitalWrite('2','LOW')\n",
    "                mybolt.digitalWrite('3','LOW')\n",
    "            if ((current_time == alarm_time+2)and button_state==0):\n",
    "                mybolt.digitalWrite('2','HIGH' )\n",
    "                mybolt.digitalWrite('3','HIGH' )\n",
    "                time.sleep(60)\n",
    "                mybolt.digitalWrite('2','LOW')\n",
    "                mybolt.digitalWrite('3','LOW')\n",
    "            elif ((current_time==alarm_time+10) and button_state == 0): #Sending SMS after 10 minutes of pill taking\n",
    "                response=sms.send_sms(\"Alert! your patient has not take the medicine. Please remind him/her\")\n",
    "                time.sleep(60)\n",
    "            elif current_time == alarm_time+30:\n",
    "                button_state = 0\n",
    "            if (button ==1 and door==0):\n",
    "                button_state=1\n",
    "        except Exception as e:\n",
    "            print(\"Error\",e)\n",
    "        time.sleep(10)\n",
    "while True:\n",
    "    set_time(10,3)\n"
   ]
  },
  {
   "cell_type": "code",
   "execution_count": null,
   "metadata": {},
   "outputs": [],
   "source": [
    "\n"
   ]
  }
 ],
 "metadata": {
  "kernelspec": {
   "display_name": "Python 3",
   "language": "python",
   "name": "python3"
  },
  "language_info": {
   "codemirror_mode": {
    "name": "ipython",
    "version": 3
   },
   "file_extension": ".py",
   "mimetype": "text/x-python",
   "name": "python",
   "nbconvert_exporter": "python",
   "pygments_lexer": "ipython3",
   "version": "3.7.6"
  }
 },
 "nbformat": 4,
 "nbformat_minor": 4
}
